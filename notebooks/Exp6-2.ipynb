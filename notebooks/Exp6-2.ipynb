{
 "cells": [
  {
   "cell_type": "code",
   "execution_count": 1,
   "metadata": {
    "collapsed": true
   },
   "outputs": [],
   "source": [
    "from PIL import Image\n",
    "import numpy as np"
   ]
  },
  {
   "cell_type": "code",
   "execution_count": 4,
   "metadata": {
    "collapsed": false
   },
   "outputs": [
    {
     "data": {
      "text/plain": [
       "(256,)"
      ]
     },
     "execution_count": 4,
     "metadata": {},
     "output_type": "execute_result"
    }
   ],
   "source": [
    "from math import pi\n",
    "arr = np.linspace(0, 2*pi, 256)\n",
    "arr.shape"
   ]
  },
  {
   "cell_type": "code",
   "execution_count": 50,
   "metadata": {
    "collapsed": false
   },
   "outputs": [],
   "source": [
    "sin_arr = (np.sin(arr)+1.)/2."
   ]
  },
  {
   "cell_type": "code",
   "execution_count": 51,
   "metadata": {
    "collapsed": true
   },
   "outputs": [],
   "source": [
    "from matplotlib import pylab\n",
    "%matplotlib inline"
   ]
  },
  {
   "cell_type": "code",
   "execution_count": 52,
   "metadata": {
    "collapsed": false
   },
   "outputs": [
    {
     "data": {
      "text/plain": [
       "[<matplotlib.lines.Line2D at 0x7f3661850c10>]"
      ]
     },
     "execution_count": 52,
     "metadata": {},
     "output_type": "execute_result"
    },
    {
     "data": {
      "image/png": "[encoded data removed]",
      "text/plain": [
       "<matplotlib.figure.Figure at 0x7f36618cec90>"
      ]
     },
     "metadata": {},
     "output_type": "display_data"
    }
   ],
   "source": [
    "pylab.plot(arr, sin_arr)"
   ]
  },
  {
   "cell_type": "code",
   "execution_count": 53,
   "metadata": {
    "collapsed": false
   },
   "outputs": [],
   "source": [
    "mat = np.repeat(sin_arr, 256).reshape((256, 256))"
   ]
  },
  {
   "cell_type": "code",
   "execution_count": 54,
   "metadata": {
    "collapsed": false
   },
   "outputs": [
    {
     "data": {
      "text/plain": [
       "[0.99999051367436342, 9.4863256365762538e-06]"
      ]
     },
     "execution_count": 54,
     "metadata": {},
     "output_type": "execute_result"
    }
   ],
   "source": [
    "[np.max(mat), np.min(mat)]"
   ]
  },
  {
   "cell_type": "code",
   "execution_count": 70,
   "metadata": {
    "collapsed": true
   },
   "outputs": [],
   "source": [
    "normalized = 255*mat"
   ]
  },
  {
   "cell_type": "code",
   "execution_count": 71,
   "metadata": {
    "collapsed": false
   },
   "outputs": [
    {
     "data": {
      "text/plain": [
       "[254.99758098696267, 0.0024190130373269447]"
      ]
     },
     "execution_count": 71,
     "metadata": {},
     "output_type": "execute_result"
    }
   ],
   "source": [
    "[np.max(normalized), np.min(normalized)]"
   ]
  },
  {
   "cell_type": "code",
   "execution_count": 72,
   "metadata": {
    "collapsed": true
   },
   "outputs": [],
   "source": [
    "img_mat = np.array(normalized, dtype=np.uint8)"
   ]
  },
  {
   "cell_type": "code",
   "execution_count": 73,
   "metadata": {
    "collapsed": false
   },
   "outputs": [
    {
     "data": {
      "text/plain": [
       "0"
      ]
     },
     "execution_count": 73,
     "metadata": {},
     "output_type": "execute_result"
    }
   ],
   "source": [
    "np.min(img_mat)"
   ]
  },
  {
   "cell_type": "code",
   "execution_count": 75,
   "metadata": {
    "collapsed": false
   },
   "outputs": [],
   "source": [
    "img = Image.fromarray(img_mat, mode=\"L\")\n",
    "img.save(\"/home/naoki/exp_c/notebooks/sin_y.png\")"
   ]
  },
  {
   "cell_type": "code",
   "execution_count": 87,
   "metadata": {
    "collapsed": false
   },
   "outputs": [],
   "source": [
    "sin_arr = (np.sin(arr)+1.)/2.\n",
    "mat = np.repeat(sin_arr, 256).reshape((256, 256)).transpose()\n",
    "normalized = 255*mat\n",
    "img_mat = np.array(normalized, dtype=np.uint8)\n",
    "img = Image.fromarray(img_mat, mode=\"L\")\n",
    "img.save(\"/home/naoki/exp_c/notebooks/sin_x.png\")\n",
    "img_mat.tofile(\"/home/naoki/exp_c/notebooks/sin_x.bin\")"
   ]
  },
  {
   "cell_type": "code",
   "execution_count": 88,
   "metadata": {
    "collapsed": true
   },
   "outputs": [],
   "source": [
    "sin_arr = (np.cos(arr)+1.)/2.\n",
    "mat = np.repeat(sin_arr, 256).reshape((256, 256)).transpose()\n",
    "normalized = 255*mat\n",
    "img_mat = np.array(normalized, dtype=np.uint8)\n",
    "img = Image.fromarray(img_mat, mode=\"L\")\n",
    "img.save(\"/home/naoki/exp_c/notebooks/cos_x.png\")\n",
    "img_mat.tofile(\"/home/naoki/exp_c/notebooks/cos_x.bin\")"
   ]
  },
  {
   "cell_type": "code",
   "execution_count": 89,
   "metadata": {
    "collapsed": true
   },
   "outputs": [],
   "source": [
    "sin_arr = (np.cos(arr)+1.)/2.\n",
    "mat = np.repeat(sin_arr, 256).reshape((256, 256))\n",
    "normalized = 255*mat\n",
    "img_mat = np.array(normalized, dtype=np.uint8)\n",
    "img = Image.fromarray(img_mat, mode=\"L\")\n",
    "img.save(\"/home/naoki/exp_c/notebooks/cos_y.png\")\n",
    "img_mat.tofile(\"/home/naoki/exp_c/notebooks/cos_y.bin\")"
   ]
  },
  {
   "cell_type": "code",
   "execution_count": 90,
   "metadata": {
    "collapsed": false
   },
   "outputs": [],
   "source": [
    "sin_mat = np.repeat((np.sin(arr)+1.)/2., 256).reshape((256, 256))\n",
    "cos_mat = np.repeat((np.sin(arr)+1.)/2., 256).reshape((256, 256)).transpose()\n",
    "mat = (sin_mat * cos_mat)\n",
    "normalized = 255*mat\n",
    "img_mat = np.array(normalized, dtype=np.uint8)\n",
    "img = Image.fromarray(img_mat, mode=\"L\")\n",
    "img.save(\"/home/naoki/exp_c/notebooks/composed.png\")\n",
    "img_mat.tofile(\"/home/naoki/exp_c/notebooks/composed.bin\")"
   ]
  },
  {
   "cell_type": "code",
   "execution_count": null,
   "metadata": {
    "collapsed": true
   },
   "outputs": [],
   "source": []
  }
 ],
 "metadata": {
  "kernelspec": {
   "display_name": "Python 2",
   "language": "python",
   "name": "python2"
  },
  "language_info": {
   "codemirror_mode": {
    "name": "ipython",
    "version": 2
   },
   "file_extension": ".py",
   "mimetype": "text/x-python",
   "name": "python",
   "nbconvert_exporter": "python",
   "pygments_lexer": "ipython2",
   "version": "2.7.10"
  }
 },
 "nbformat": 4,
 "nbformat_minor": 0
}
